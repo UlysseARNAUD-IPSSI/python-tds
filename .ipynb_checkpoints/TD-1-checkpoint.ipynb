{
 "cells": [
  {
   "cell_type": "markdown",
   "metadata": {},
   "source": [
    "Définir la liste allant de 1 à 10, puis effectuez les actions suivantes :\n",
    " \n",
    "- triez et affichez la liste\n",
    "- ajoutez l’élément 11 à la liste et affichez la liste\n",
    "- renversez et affichez la liste\n",
    "- affichez l’indice de l’élément 7\n",
    "- enlevez l’élément 9 et affichez la liste\n",
    "- affichez la sous-liste du 2e au 3e élément ;\n",
    "- affichez la sous-liste du début au 2e élément ;\n",
    "- affichez la sous-liste du 3e élément à la fin de la liste ;\n",
    " \n",
    "Construire le dictionnaire des 6 premiers mois de l’année avec comme valeurs le nombre de jours respectif.\n",
    " \n",
    "- Renvoyer la liste des mois.\n",
    "- Renvoyer la liste des jours.\n",
    "- Ajoutez la clé du mois de Juillet ?\n"
   ]
  },
  {
   "cell_type": "code",
   "execution_count": 1,
   "metadata": {},
   "outputs": [
    {
     "data": {
      "text/plain": [
       "[1, 2, 3, 4, 5, 6, 7, 8, 9, 10]"
      ]
     },
     "execution_count": 1,
     "metadata": {},
     "output_type": "execute_result"
    }
   ],
   "source": [
    "liste = [x for x in range(1,11)]\n",
    "liste.sort()\n",
    "liste"
   ]
  },
  {
   "cell_type": "code",
   "execution_count": 2,
   "metadata": {},
   "outputs": [
    {
     "data": {
      "text/plain": [
       "[1, 2, 3, 4, 5, 6, 7, 8, 9, 10, 11]"
      ]
     },
     "execution_count": 2,
     "metadata": {},
     "output_type": "execute_result"
    }
   ],
   "source": [
    "liste.append(11)\n",
    "liste"
   ]
  },
  {
   "cell_type": "code",
   "execution_count": 3,
   "metadata": {},
   "outputs": [
    {
     "data": {
      "text/plain": [
       "[11, 10, 9, 8, 7, 6, 5, 4, 3, 2, 1]"
      ]
     },
     "execution_count": 3,
     "metadata": {},
     "output_type": "execute_result"
    }
   ],
   "source": [
    "liste.reverse()\n",
    "liste"
   ]
  },
  {
   "cell_type": "code",
   "execution_count": 4,
   "metadata": {},
   "outputs": [
    {
     "data": {
      "text/plain": [
       "4"
      ]
     },
     "execution_count": 4,
     "metadata": {},
     "output_type": "execute_result"
    }
   ],
   "source": [
    "liste.index(7)"
   ]
  },
  {
   "cell_type": "code",
   "execution_count": 5,
   "metadata": {
    "scrolled": true
   },
   "outputs": [
    {
     "data": {
      "text/plain": [
       "[11, 10, 8, 7, 6, 5, 4, 3, 2, 1]"
      ]
     },
     "execution_count": 5,
     "metadata": {},
     "output_type": "execute_result"
    }
   ],
   "source": [
    "liste.remove(9)\n",
    "liste"
   ]
  },
  {
   "cell_type": "code",
   "execution_count": 6,
   "metadata": {},
   "outputs": [],
   "source": [
    "def sousListe(premierElement,deuxiemeElement,*,liste=liste):\n",
    "    return liste[\n",
    "        len(liste) - (liste[::-1].index(premierElement) + 1) # On commence depuis le premier élément \n",
    "        : (liste.index(deuxiemeElement) + 1) # et on va jusqu'au deuxieme élément\n",
    "    ]"
   ]
  },
  {
   "cell_type": "code",
   "execution_count": 7,
   "metadata": {},
   "outputs": [
    {
     "data": {
      "text/plain": [
       "[10, 8, 7, 6, 5, 4, 3]"
      ]
     },
     "execution_count": 7,
     "metadata": {},
     "output_type": "execute_result"
    }
   ],
   "source": [
    "# sousListe(3, 10)\n",
    "sousListe(10, 3)"
   ]
  },
  {
   "cell_type": "code",
   "execution_count": 8,
   "metadata": {},
   "outputs": [
    {
     "data": {
      "text/plain": [
       "[3, 2, 1]"
      ]
     },
     "execution_count": 8,
     "metadata": {},
     "output_type": "execute_result"
    }
   ],
   "source": [
    "# sousListe(1, 3)\n",
    "sousListe(3, 1)"
   ]
  },
  {
   "cell_type": "code",
   "execution_count": 16,
   "metadata": {},
   "outputs": [],
   "source": [
    "months = {\n",
    "    \"january\": 31,\n",
    "    \"february\": 28,\n",
    "    \"march\": 31,\n",
    "    \"april\": 30,\n",
    "    \"may\": 31,\n",
    "    \"june\": 30,\n",
    "    # \"july\": 31,\n",
    "    # \"august\": 31,\n",
    "    # \"september\": 30,\n",
    "    # \"october\": 31,\n",
    "    # \"november\": 30,\n",
    "    # \"december\": 31\n",
    "}"
   ]
  },
  {
   "cell_type": "code",
   "execution_count": 17,
   "metadata": {},
   "outputs": [
    {
     "data": {
      "text/plain": [
       "dict_keys(['january', 'february', 'march', 'april', 'may', 'june'])"
      ]
     },
     "execution_count": 17,
     "metadata": {},
     "output_type": "execute_result"
    }
   ],
   "source": [
    "months.keys()"
   ]
  },
  {
   "cell_type": "code",
   "execution_count": 18,
   "metadata": {},
   "outputs": [
    {
     "data": {
      "text/plain": [
       "dict_values([31, 28, 31, 30, 31, 30])"
      ]
     },
     "execution_count": 18,
     "metadata": {},
     "output_type": "execute_result"
    }
   ],
   "source": [
    "months.values()"
   ]
  },
  {
   "cell_type": "code",
   "execution_count": 22,
   "metadata": {
    "scrolled": true
   },
   "outputs": [
    {
     "data": {
      "text/plain": [
       "{'january': 31,\n",
       " 'february': 28,\n",
       " 'march': 31,\n",
       " 'april': 30,\n",
       " 'may': 31,\n",
       " 'june': 30,\n",
       " 'july': 31}"
      ]
     },
     "execution_count": 22,
     "metadata": {},
     "output_type": "execute_result"
    }
   ],
   "source": [
    "months.update({'july': 31})\n",
    "months"
   ]
  }
 ],
 "metadata": {
  "kernelspec": {
   "display_name": "Python 3",
   "language": "python",
   "name": "python3"
  },
  "language_info": {
   "codemirror_mode": {
    "name": "ipython",
    "version": 3
   },
   "file_extension": ".py",
   "mimetype": "text/x-python",
   "name": "python",
   "nbconvert_exporter": "python",
   "pygments_lexer": "ipython3",
   "version": "3.8.3"
  }
 },
 "nbformat": 4,
 "nbformat_minor": 4
}
