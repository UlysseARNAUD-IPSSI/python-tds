{
 "cells": [
  {
   "cell_type": "markdown",
   "metadata": {},
   "source": [
    "# Ceci est un titre\n",
    "\n",
    "Ajouter texte ici"
   ]
  },
  {
   "cell_type": "code",
   "execution_count": 1,
   "metadata": {},
   "outputs": [
    {
     "name": "stdout",
     "output_type": "stream",
     "text": [
      "Requirement already satisfied: seasonal in c:\\users\\uarnaud\\anaconda3\\lib\\site-packages (0.3.1)\n",
      "Requirement already satisfied: numpy in c:\\users\\uarnaud\\anaconda3\\lib\\site-packages (from seasonal) (1.18.5)\n",
      "Requirement already satisfied: scipy in c:\\users\\uarnaud\\anaconda3\\lib\\site-packages (from seasonal) (1.5.0)\n",
      "Requirement already satisfied: pandas in c:\\users\\uarnaud\\anaconda3\\lib\\site-packages (1.0.5)\n",
      "Requirement already satisfied: numpy>=1.13.3 in c:\\users\\uarnaud\\anaconda3\\lib\\site-packages (from pandas) (1.18.5)\n",
      "Requirement already satisfied: pytz>=2017.2 in c:\\users\\uarnaud\\anaconda3\\lib\\site-packages (from pandas) (2020.1)\n",
      "Requirement already satisfied: python-dateutil>=2.6.1 in c:\\users\\uarnaud\\anaconda3\\lib\\site-packages (from pandas) (2.8.1)\n",
      "Requirement already satisfied: six>=1.5 in c:\\users\\uarnaud\\anaconda3\\lib\\site-packages (from python-dateutil>=2.6.1->pandas) (1.15.0)\n",
      "Requirement already satisfied: numpy in c:\\users\\uarnaud\\anaconda3\\lib\\site-packages (1.18.5)\n",
      "Requirement already satisfied: odfpy in c:\\users\\uarnaud\\anaconda3\\lib\\site-packages (1.4.1)\n",
      "Requirement already satisfied: defusedxml in c:\\users\\uarnaud\\anaconda3\\lib\\site-packages (from odfpy) (0.6.0)\n"
     ]
    }
   ],
   "source": [
    "!pip install seasonal\n",
    "!pip install pandas\n",
    "!pip install numpy\n",
    "!pip install odfpy"
   ]
  },
  {
   "cell_type": "code",
   "execution_count": 2,
   "metadata": {},
   "outputs": [],
   "source": [
    "from statsmodels.tsa.tsatools import detrend\n",
    "from statsmodels.tsa.seasonal import seasonal_decompose\n",
    "from seasonal import fit_seasons\n",
    "\n",
    "import pandas as pd\n",
    "import numpy as np\n",
    "import matplotlib.pyplot as plt\n",
    "import math"
   ]
  },
  {
   "cell_type": "code",
   "execution_count": 3,
   "metadata": {},
   "outputs": [
    {
     "data": {
      "text/html": [
       "<div>\n",
       "<style scoped>\n",
       "    .dataframe tbody tr th:only-of-type {\n",
       "        vertical-align: middle;\n",
       "    }\n",
       "\n",
       "    .dataframe tbody tr th {\n",
       "        vertical-align: top;\n",
       "    }\n",
       "\n",
       "    .dataframe thead th {\n",
       "        text-align: right;\n",
       "    }\n",
       "</style>\n",
       "<table border=\"1\" class=\"dataframe\">\n",
       "  <thead>\n",
       "    <tr style=\"text-align: right;\">\n",
       "      <th></th>\n",
       "      <th>SEXE</th>\n",
       "      <th>QSEXE</th>\n",
       "      <th>RAGE2</th>\n",
       "      <th>RAGE3</th>\n",
       "      <th>XRAGE</th>\n",
       "      <th>AGGLOIFOP2</th>\n",
       "      <th>REG</th>\n",
       "      <th>REG2</th>\n",
       "      <th>REG3</th>\n",
       "      <th>REG13</th>\n",
       "      <th>...</th>\n",
       "      <th>Q60_3</th>\n",
       "      <th>Q60_4</th>\n",
       "      <th>Q60_5</th>\n",
       "      <th>Q61_r1_c1</th>\n",
       "      <th>Q61_r2_c1</th>\n",
       "      <th>Q61_r3_c1</th>\n",
       "      <th>Q61_r4_c1</th>\n",
       "      <th>DISPQUAL</th>\n",
       "      <th>sys_block_set_1</th>\n",
       "      <th>poids</th>\n",
       "    </tr>\n",
       "  </thead>\n",
       "  <tbody>\n",
       "    <tr>\n",
       "      <th>0</th>\n",
       "      <td>Une femme</td>\n",
       "      <td>FEMME</td>\n",
       "      <td>De65aPlus</td>\n",
       "      <td>PlusDe49ans</td>\n",
       "      <td>Femme35ansEtPlus</td>\n",
       "      <td>MoinsDe100000Habitants</td>\n",
       "      <td>UDA7</td>\n",
       "      <td>BUDA4</td>\n",
       "      <td>PROVINCE</td>\n",
       "      <td>LanguedicRoussillonMidiP</td>\n",
       "      <td>...</td>\n",
       "      <td>#NUL!</td>\n",
       "      <td>#NUL!</td>\n",
       "      <td>#NUL!</td>\n",
       "      <td>#NUL!</td>\n",
       "      <td>Entre 1 et 49</td>\n",
       "      <td>#NUL!</td>\n",
       "      <td>#NUL!</td>\n",
       "      <td>Long</td>\n",
       "      <td>2,3,1</td>\n",
       "      <td>1.006791</td>\n",
       "    </tr>\n",
       "  </tbody>\n",
       "</table>\n",
       "<p>1 rows × 261 columns</p>\n",
       "</div>"
      ],
      "text/plain": [
       "        SEXE  QSEXE      RAGE2        RAGE3             XRAGE  \\\n",
       "0  Une femme  FEMME  De65aPlus  PlusDe49ans  Femme35ansEtPlus   \n",
       "\n",
       "               AGGLOIFOP2   REG   REG2      REG3                     REG13  \\\n",
       "0  MoinsDe100000Habitants  UDA7  BUDA4  PROVINCE  LanguedicRoussillonMidiP   \n",
       "\n",
       "   ...  Q60_3  Q60_4  Q60_5 Q61_r1_c1      Q61_r2_c1 Q61_r3_c1 Q61_r4_c1  \\\n",
       "0  ...  #NUL!  #NUL!  #NUL!     #NUL!  Entre 1 et 49     #NUL!     #NUL!   \n",
       "\n",
       "  DISPQUAL sys_block_set_1     poids  \n",
       "0     Long           2,3,1  1.006791  \n",
       "\n",
       "[1 rows x 261 columns]"
      ]
     },
     "execution_count": 3,
     "metadata": {},
     "output_type": "execute_result"
    }
   ],
   "source": [
    "dataframe = pd.read_excel(\"hadopi-2020-musique-data.ods\", engine=\"odf\")\n",
    "dataframe.head(1)"
   ]
  },
  {
   "cell_type": "code",
   "execution_count": 8,
   "metadata": {},
   "outputs": [
    {
     "data": {
      "text/html": [
       "<div>\n",
       "<style scoped>\n",
       "    .dataframe tbody tr th:only-of-type {\n",
       "        vertical-align: middle;\n",
       "    }\n",
       "\n",
       "    .dataframe tbody tr th {\n",
       "        vertical-align: top;\n",
       "    }\n",
       "\n",
       "    .dataframe thead th {\n",
       "        text-align: right;\n",
       "    }\n",
       "</style>\n",
       "<table border=\"1\" class=\"dataframe\">\n",
       "  <thead>\n",
       "    <tr style=\"text-align: right;\">\n",
       "      <th></th>\n",
       "      <th>SEXE</th>\n",
       "      <th>QSEXE</th>\n",
       "      <th>RAGE2</th>\n",
       "      <th>RAGE3</th>\n",
       "      <th>XRAGE</th>\n",
       "      <th>AGGLOIFOP2</th>\n",
       "      <th>REG</th>\n",
       "      <th>REG2</th>\n",
       "      <th>REG3</th>\n",
       "      <th>REG13</th>\n",
       "      <th>...</th>\n",
       "      <th>Q60_3</th>\n",
       "      <th>Q60_4</th>\n",
       "      <th>Q60_5</th>\n",
       "      <th>Q61_r1_c1</th>\n",
       "      <th>Q61_r2_c1</th>\n",
       "      <th>Q61_r3_c1</th>\n",
       "      <th>Q61_r4_c1</th>\n",
       "      <th>DISPQUAL</th>\n",
       "      <th>sys_block_set_1</th>\n",
       "      <th>poids</th>\n",
       "    </tr>\n",
       "  </thead>\n",
       "  <tbody>\n",
       "    <tr>\n",
       "      <th>0</th>\n",
       "      <td>Une femme</td>\n",
       "      <td>FEMME</td>\n",
       "      <td>De65aPlus</td>\n",
       "      <td>PlusDe49ans</td>\n",
       "      <td>Femme35ansEtPlus</td>\n",
       "      <td>MoinsDe100000Habitants</td>\n",
       "      <td>UDA7</td>\n",
       "      <td>BUDA4</td>\n",
       "      <td>PROVINCE</td>\n",
       "      <td>LanguedocRoussillonMidiP</td>\n",
       "      <td>...</td>\n",
       "      <td>None</td>\n",
       "      <td>None</td>\n",
       "      <td>None</td>\n",
       "      <td>None</td>\n",
       "      <td>Entre 1 et 49</td>\n",
       "      <td>None</td>\n",
       "      <td>None</td>\n",
       "      <td>Long</td>\n",
       "      <td>2,3,1</td>\n",
       "      <td>1.006791</td>\n",
       "    </tr>\n",
       "  </tbody>\n",
       "</table>\n",
       "<p>1 rows × 261 columns</p>\n",
       "</div>"
      ],
      "text/plain": [
       "        SEXE  QSEXE      RAGE2        RAGE3             XRAGE  \\\n",
       "0  Une femme  FEMME  De65aPlus  PlusDe49ans  Femme35ansEtPlus   \n",
       "\n",
       "               AGGLOIFOP2   REG   REG2      REG3                     REG13  \\\n",
       "0  MoinsDe100000Habitants  UDA7  BUDA4  PROVINCE  LanguedocRoussillonMidiP   \n",
       "\n",
       "   ... Q60_3 Q60_4 Q60_5 Q61_r1_c1      Q61_r2_c1 Q61_r3_c1 Q61_r4_c1  \\\n",
       "0  ...  None  None  None      None  Entre 1 et 49      None      None   \n",
       "\n",
       "  DISPQUAL sys_block_set_1     poids  \n",
       "0     Long           2,3,1  1.006791  \n",
       "\n",
       "[1 rows x 261 columns]"
      ]
     },
     "execution_count": 8,
     "metadata": {},
     "output_type": "execute_result"
    }
   ],
   "source": [
    "dataframe = dataframe.replace('LanguedicRoussillon', 'LanguedocRoussillon', regex=True)\n",
    "dataframe = dataframe.replace('#NUL!', 'None', regex=True)\n",
    "dataframe.head(1)"
   ]
  },
  {
   "cell_type": "code",
   "execution_count": 5,
   "metadata": {
    "scrolled": false
   },
   "outputs": [
    {
     "data": {
      "text/html": [
       "<div>\n",
       "<style scoped>\n",
       "    .dataframe tbody tr th:only-of-type {\n",
       "        vertical-align: middle;\n",
       "    }\n",
       "\n",
       "    .dataframe tbody tr th {\n",
       "        vertical-align: top;\n",
       "    }\n",
       "\n",
       "    .dataframe thead th {\n",
       "        text-align: right;\n",
       "    }\n",
       "</style>\n",
       "<table border=\"1\" class=\"dataframe\">\n",
       "  <thead>\n",
       "    <tr style=\"text-align: right;\">\n",
       "      <th></th>\n",
       "      <th>SEXE</th>\n",
       "      <th>QSEXE</th>\n",
       "      <th>RAGE2</th>\n",
       "      <th>RAGE3</th>\n",
       "      <th>XRAGE</th>\n",
       "      <th>AGGLOIFOP2</th>\n",
       "      <th>REG</th>\n",
       "      <th>REG2</th>\n",
       "      <th>REG3</th>\n",
       "      <th>REG13</th>\n",
       "      <th>...</th>\n",
       "      <th>Q60_3</th>\n",
       "      <th>Q60_4</th>\n",
       "      <th>Q60_5</th>\n",
       "      <th>Q61_r1_c1</th>\n",
       "      <th>Q61_r2_c1</th>\n",
       "      <th>Q61_r3_c1</th>\n",
       "      <th>Q61_r4_c1</th>\n",
       "      <th>DISPQUAL</th>\n",
       "      <th>sys_block_set_1</th>\n",
       "      <th>poids</th>\n",
       "    </tr>\n",
       "  </thead>\n",
       "  <tbody>\n",
       "    <tr>\n",
       "      <th>0</th>\n",
       "      <td>Une femme</td>\n",
       "      <td>FEMME</td>\n",
       "      <td>De65aPlus</td>\n",
       "      <td>PlusDe49ans</td>\n",
       "      <td>Femme35ansEtPlus</td>\n",
       "      <td>MoinsDe100000Habitants</td>\n",
       "      <td>UDA7</td>\n",
       "      <td>BUDA4</td>\n",
       "      <td>PROVINCE</td>\n",
       "      <td>LanguedocRoussillonMidiP</td>\n",
       "      <td>...</td>\n",
       "      <td>None</td>\n",
       "      <td>None</td>\n",
       "      <td>None</td>\n",
       "      <td>None</td>\n",
       "      <td>Entre 1 et 49</td>\n",
       "      <td>None</td>\n",
       "      <td>None</td>\n",
       "      <td>Long</td>\n",
       "      <td>2,3,1</td>\n",
       "      <td>1.006791</td>\n",
       "    </tr>\n",
       "  </tbody>\n",
       "</table>\n",
       "<p>1 rows × 261 columns</p>\n",
       "</div>"
      ],
      "text/plain": [
       "        SEXE  QSEXE      RAGE2        RAGE3             XRAGE  \\\n",
       "0  Une femme  FEMME  De65aPlus  PlusDe49ans  Femme35ansEtPlus   \n",
       "\n",
       "               AGGLOIFOP2   REG   REG2      REG3                     REG13  \\\n",
       "0  MoinsDe100000Habitants  UDA7  BUDA4  PROVINCE  LanguedocRoussillonMidiP   \n",
       "\n",
       "   ... Q60_3 Q60_4 Q60_5 Q61_r1_c1      Q61_r2_c1 Q61_r3_c1 Q61_r4_c1  \\\n",
       "0  ...  None  None  None      None  Entre 1 et 49      None      None   \n",
       "\n",
       "  DISPQUAL sys_block_set_1     poids  \n",
       "0     Long           2,3,1  1.006791  \n",
       "\n",
       "[1 rows x 261 columns]"
      ]
     },
     "execution_count": 5,
     "metadata": {},
     "output_type": "execute_result"
    }
   ],
   "source": [
    "dataframe = dataframe.dropna(axis = 'columns', how = 'all')\n",
    "dataframe.head(1)"
   ]
  },
  {
   "cell_type": "code",
   "execution_count": 6,
   "metadata": {},
   "outputs": [
    {
     "data": {
      "text/plain": [
       "{'Un homme': 1073, 'Une femme': 1127}"
      ]
     },
     "execution_count": 6,
     "metadata": {},
     "output_type": "execute_result"
    }
   ],
   "source": [
    "dataframe.groupby('SEXE').size().to_dict()"
   ]
  },
  {
   "cell_type": "code",
   "execution_count": 7,
   "metadata": {},
   "outputs": [
    {
     "data": {
      "text/plain": [
       "{'FEMME': 1127, 'HOMME': 1073}"
      ]
     },
     "execution_count": 7,
     "metadata": {},
     "output_type": "execute_result"
    }
   ],
   "source": [
    "dataframe.groupby('QSEXE').size().to_dict()"
   ]
  },
  {
   "cell_type": "code",
   "execution_count": null,
   "metadata": {},
   "outputs": [],
   "source": []
  }
 ],
 "metadata": {
  "kernelspec": {
   "display_name": "Python 3",
   "language": "python",
   "name": "python3"
  },
  "language_info": {
   "codemirror_mode": {
    "name": "ipython",
    "version": 3
   },
   "file_extension": ".py",
   "mimetype": "text/x-python",
   "name": "python",
   "nbconvert_exporter": "python",
   "pygments_lexer": "ipython3",
   "version": "3.8.3"
  }
 },
 "nbformat": 4,
 "nbformat_minor": 4
}
