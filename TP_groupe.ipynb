{
 "cells": [
  {
   "cell_type": "markdown",
   "metadata": {
    "id": "OS0vEehteLN7"
   },
   "source": [
    "# Ceci est un titre\n",
    "\n",
    "blabla\n",
    "\n",
    "COUCOU\n",
    "\n",
    "\n"
   ]
  },
  {
   "cell_type": "code",
   "execution_count": 1,
   "metadata": {
    "id": "_sogpT3MjqH5"
   },
   "outputs": [],
   "source": [
    "import pandas as pd\n",
    "import numpy as np\n",
    "import matplotlib.pyplot as plt\n",
    "from matplotlib import cm\n",
    "import warnings\n",
    "\n",
    "warnings.filterwarnings(\"ignore\")"
   ]
  },
  {
   "cell_type": "code",
   "execution_count": 2,
   "metadata": {
    "id": "lL4jhdrFb7SW"
   },
   "outputs": [],
   "source": [
    "def read_csv(file):\n",
    "    return pd\\\n",
    "      .read_csv(file + '.csv', error_bad_lines=False, index_col=False, dtype='unicode')\\\n",
    "      .dropna(axis = 'columns', how = 'all')"
   ]
  },
  {
   "cell_type": "code",
   "execution_count": 35,
   "metadata": {
    "id": "5bx-i2PmGQRw"
   },
   "outputs": [],
   "source": [
    "def showPieQuestion(question):\n",
    "  values = getCountOfColumn(question).apply(pd.Series.value_counts)\n",
    "  values = np.ravel(values)\n",
    "\n",
    "  significations = getDictSignifications(question)\n",
    "  significations = list(significations['Signification'])\n",
    "\n",
    "  nb_columns = len(significations)\n",
    "  colors = cm.Spectral([float(x) / nb_columns for x in range(nb_columns)])\n",
    "\n",
    "  fig1, ax1 = plt.subplots(figsize=(7,7))\n",
    "  pie = \\\n",
    "    ax1.pie(\n",
    "      values,\n",
    "      autopct='%1.1f%%',\n",
    "      startangle=30,\n",
    "      colors=colors,\n",
    "      radius=1\n",
    "  )\n",
    "  ax1.legend(\n",
    "      labels=significations, \n",
    "      loc='best', \n",
    "      bbox_to_anchor=(0, 1), \n",
    "      fontsize=8\n",
    "  )\n",
    "\n",
    "  ax1.axis('equal')\n",
    "\n",
    "  plt.show()"
   ]
  },
  {
   "cell_type": "code",
   "execution_count": 32,
   "metadata": {
    "id": "0g_1MJw0Ocsv"
   },
   "outputs": [],
   "source": [
    "def showBarQuestion(question):\n",
    "  values = getCountOfColumn(question).apply(pd.Series.value_counts)\n",
    "  values = np.ravel(values)\n",
    "\n",
    "  significations = getDictSignifications(question)\n",
    "  significations = list(significations['Signification'])\n",
    "\n",
    "  nb_columns = len(significations)\n",
    "\n",
    "  fig1, ax1 = plt.subplots(figsize=(7,7))\n",
    "  \n",
    "  ax1.xaxis.set_visible(False)\n",
    "  \n",
    "  colors = cm.Spectral([float(x) / nb_columns for x in range(nb_columns)])\n",
    "  \n",
    "  bar = \\\n",
    "    ax1.bar(\n",
    "      significations,\n",
    "      values,\n",
    "      label=significations,\n",
    "      color=colors,\n",
    "      linewidth=1,\n",
    "      edgecolor='white'\n",
    "  )\n",
    "  ax1.legend(\n",
    "      handles=bar,\n",
    "      labels=significations, \n",
    "      loc='best', \n",
    "      bbox_to_anchor=(0, 1), \n",
    "      fontsize=8\n",
    "  )\n",
    "\n",
    "  plt.show()"
   ]
  },
  {
   "cell_type": "code",
   "execution_count": null,
   "metadata": {},
   "outputs": [],
   "source": [
    "def showLineQuestion(question):\n",
    "  values = getCountOfColumn(question).apply(pd.Series.value_counts)\n",
    "  values = np.ravel(values)\n",
    "\n",
    "  significations = getDictSignifications(question)\n",
    "  significations = list(significations['Signification'])\n",
    "\n",
    "  nb_columns = len(significations)\n",
    "\n",
    "  fig1, ax1 = plt.subplots(figsize=(7,7))\n",
    "  \n",
    "  ax1.xaxis.set_visible(False)\n",
    "  \n",
    "  colors = cm.Spectral([float(x) / nb_columns for x in range(nb_columns)])\n",
    "  \n",
    "  bar = \\\n",
    "    ax1.bar(\n",
    "      significations,\n",
    "      values,\n",
    "      label=significations,\n",
    "      color=colors,\n",
    "      linewidth=1,\n",
    "      edgecolor='white'\n",
    "  )\n",
    "  ax1.legend(\n",
    "      handles=bar,\n",
    "      labels=significations, \n",
    "      loc='best', \n",
    "      bbox_to_anchor=(0, 1), \n",
    "      fontsize=8\n",
    "  )\n",
    "\n",
    "  plt.show()"
   ]
  },
  {
   "cell_type": "code",
   "execution_count": 5,
   "metadata": {
    "id": "V-WpjfOb_feI"
   },
   "outputs": [],
   "source": [
    "def getSondageCovid(): return read_csv(\"Sondage_covidVague7\")"
   ]
  },
  {
   "cell_type": "code",
   "execution_count": 6,
   "metadata": {
    "id": "367xuOfiJBnr"
   },
   "outputs": [],
   "source": [
    "def getDicoVariablesCovid(): return read_csv(\"Dico_variables_covid\")"
   ]
  },
  {
   "cell_type": "code",
   "execution_count": 7,
   "metadata": {
    "id": "ss6Ooz1HAty-"
   },
   "outputs": [],
   "source": [
    "def getDictSignifications(label=None):\n",
    "  dicoVariables = getDicoVariablesCovid()\n",
    "  dicoVariables.Code = dicoVariables.Code.astype(int)\n",
    "  dicoVariablesGrouped = dicoVariables.groupby(['Question_Better'])\n",
    "  \n",
    "  result = dict()\n",
    "\n",
    "  for item in dicoVariablesGrouped.indices:\n",
    "    result[item] = \\\n",
    "      dicoVariables.iloc[\\\n",
    "        dicoVariablesGrouped.indices[item], \\\n",
    "        [dicoVariables.columns.get_loc('Code'),\\\n",
    "         dicoVariables.columns.get_loc('Signification')]\\\n",
    "      ]\n",
    "\n",
    "  return pd.DataFrame.from_dict(result[label]) \\\n",
    "    if label != None \\\n",
    "    else pd.Series(result)"
   ]
  },
  {
   "cell_type": "code",
   "execution_count": 8,
   "metadata": {
    "id": "LPewSvqFq-81"
   },
   "outputs": [],
   "source": [
    "def whereInDict(\n",
    "    _dict, \n",
    "    conditionAttribute, \n",
    "    conditionOperator, \n",
    "    conditionValue\n",
    "    ):\n",
    "  return eval(\"_dict[_dict.\" + str(conditionAttribute) + \" \" + str(conditionOperator) + \" \" + str(conditionValue) + \"]\")\n"
   ]
  },
  {
   "cell_type": "code",
   "execution_count": 9,
   "metadata": {
    "id": "1D9nNYrl_LQs"
   },
   "outputs": [],
   "source": [
    "def getCountOfColumn(column):\n",
    "  sondageCovid = getSondageCovid()\n",
    "  return sondageCovid[[column]]"
   ]
  },
  {
   "cell_type": "code",
   "execution_count": 25,
   "metadata": {},
   "outputs": [],
   "source": [
    "def showQuestionNames():\n",
    "    return getDictSignifications().keys()"
   ]
  },
  {
   "cell_type": "code",
   "execution_count": 26,
   "metadata": {},
   "outputs": [
    {
     "data": {
      "text/plain": [
       "Index(['A0_0', 'A0_1', 'A0_2', 'A1', 'A2', 'A2BIS', 'A3BIS', 'A3_0', 'A3_1',\n",
       "       'A4', 'A6_0', 'A6_1', 'A6_10', 'A6_2', 'A6_3', 'A6_4', 'A6_5', 'A6_6',\n",
       "       'A6_7', 'A6_8', 'A6_9', 'AGE2', 'AGGLO5', 'ALEAD65', 'ALEAD70', 'B2_0',\n",
       "       'B2_1', 'B2_2', 'B2_3', 'B2_4', 'B2_5', 'B2_6', 'B2_7', 'B2_8', 'C10',\n",
       "       'C11', 'C1C2', 'C3', 'C4_0', 'C4_1', 'C4_2', 'C4_3', 'C4_4', 'C4_5',\n",
       "       'C4_6', 'C4_7', 'C51', 'C52', 'C53', 'C54', 'C6_0', 'C6_1', 'C6_2',\n",
       "       'C6_3', 'C7', 'C7DEP', 'C7REG12', 'D60', 'D60A', 'D61', 'D62_0',\n",
       "       'D62_1', 'D62_2', 'D63', 'D65', 'D66', 'D67', 'D68_0', 'D68_1', 'D68_2',\n",
       "       'D68_3', 'D68_4', 'D68_5', 'D68_6', 'D68_7', 'D68_8', 'D69_0', 'D69_1',\n",
       "       'D69_2', 'D69_3', 'D69_4', 'D69_5', 'D69_6', 'D69_7', 'D70', 'D71',\n",
       "       'DEP', 'DEVICE', 'EMP', 'JOURV7', 'MAR', 'PCSI', 'REG12', 'SEXE'],\n",
       "      dtype='object')"
      ]
     },
     "execution_count": 26,
     "metadata": {},
     "output_type": "execute_result"
    }
   ],
   "source": [
    "showQuestionNames()"
   ]
  },
  {
   "cell_type": "code",
   "execution_count": 36,
   "metadata": {
    "colab": {
     "base_uri": "https://localhost:8080/",
     "height": 449
    },
    "id": "Aidf8__lVpaw",
    "outputId": "fd613054-6171-4d79-cc5c-e96cde9d0103"
   },
   "outputs": [
    {
     "data": {
      "image/png": "[encoded data removed]",
      "text/plain": [
       "<Figure size 504x504 with 1 Axes>"
      ]
     },
     "metadata": {},
     "output_type": "display_data"
    }
   ],
   "source": [
    "showPieQuestion('REG12')"
   ]
  },
  {
   "cell_type": "code",
   "execution_count": 33,
   "metadata": {
    "colab": {
     "base_uri": "https://localhost:8080/",
     "height": 455
    },
    "id": "qNBca2YmJs1_",
    "outputId": "c33b9406-66f2-4d95-8715-075674c1406e"
   },
   "outputs": [
    {
     "data": {
      "image/png": "[encoded data removed]",
      "text/plain": [
       "<Figure size 504x504 with 1 Axes>"
      ]
     },
     "metadata": {
      "needs_background": "light"
     },
     "output_type": "display_data"
    }
   ],
   "source": [
    "showBarQuestion('REG12')"
   ]
  },
  {
   "cell_type": "code",
   "execution_count": 23,
   "metadata": {},
   "outputs": [
    {
     "data": {
      "text/html": [
       "<div>\n",
       "<style scoped>\n",
       "    .dataframe tbody tr th:only-of-type {\n",
       "        vertical-align: middle;\n",
       "    }\n",
       "\n",
       "    .dataframe tbody tr th {\n",
       "        vertical-align: top;\n",
       "    }\n",
       "\n",
       "    .dataframe thead th {\n",
       "        text-align: right;\n",
       "    }\n",
       "</style>\n",
       "<table border=\"1\" class=\"dataframe\">\n",
       "  <thead>\n",
       "    <tr style=\"text-align: right;\">\n",
       "      <th></th>\n",
       "      <th>code_commune_INSEE</th>\n",
       "      <th>nom_commune_postal</th>\n",
       "      <th>code_postal</th>\n",
       "      <th>libelle_acheminement</th>\n",
       "      <th>ligne_5</th>\n",
       "      <th>latitude</th>\n",
       "      <th>longitude</th>\n",
       "      <th>code_commune</th>\n",
       "      <th>article</th>\n",
       "      <th>nom_commune</th>\n",
       "      <th>nom_commune_complet</th>\n",
       "      <th>code_departement</th>\n",
       "      <th>nom_departement</th>\n",
       "      <th>code_region</th>\n",
       "      <th>nom_region</th>\n",
       "    </tr>\n",
       "  </thead>\n",
       "  <tbody>\n",
       "    <tr>\n",
       "      <th>0</th>\n",
       "      <td>1001</td>\n",
       "      <td>L ABERGEMENT CLEMENCIAT</td>\n",
       "      <td>1400</td>\n",
       "      <td>L ABERGEMENT CLEMENCIAT</td>\n",
       "      <td>NaN</td>\n",
       "      <td>46.1534255214</td>\n",
       "      <td>4.92611354223</td>\n",
       "      <td>1</td>\n",
       "      <td>L'</td>\n",
       "      <td>Abergement-Clémenciat</td>\n",
       "      <td>L'Abergement-Clémenciat</td>\n",
       "      <td>1</td>\n",
       "      <td>Ain</td>\n",
       "      <td>84</td>\n",
       "      <td>Auvergne-Rhône-Alpes</td>\n",
       "    </tr>\n",
       "    <tr>\n",
       "      <th>1</th>\n",
       "      <td>1002</td>\n",
       "      <td>L ABERGEMENT DE VAREY</td>\n",
       "      <td>1640</td>\n",
       "      <td>L ABERGEMENT DE VAREY</td>\n",
       "      <td>NaN</td>\n",
       "      <td>46.0091878776</td>\n",
       "      <td>5.42801696363</td>\n",
       "      <td>2</td>\n",
       "      <td>L'</td>\n",
       "      <td>Abergement-de-Varey</td>\n",
       "      <td>L'Abergement-de-Varey</td>\n",
       "      <td>1</td>\n",
       "      <td>Ain</td>\n",
       "      <td>84</td>\n",
       "      <td>Auvergne-Rhône-Alpes</td>\n",
       "    </tr>\n",
       "    <tr>\n",
       "      <th>2</th>\n",
       "      <td>1004</td>\n",
       "      <td>AMBERIEU EN BUGEY</td>\n",
       "      <td>1500</td>\n",
       "      <td>AMBERIEU EN BUGEY</td>\n",
       "      <td>NaN</td>\n",
       "      <td>45.9608475114</td>\n",
       "      <td>5.3729257777</td>\n",
       "      <td>4</td>\n",
       "      <td>NaN</td>\n",
       "      <td>Ambérieu-en-Bugey</td>\n",
       "      <td>Ambérieu-en-Bugey</td>\n",
       "      <td>1</td>\n",
       "      <td>Ain</td>\n",
       "      <td>84</td>\n",
       "      <td>Auvergne-Rhône-Alpes</td>\n",
       "    </tr>\n",
       "    <tr>\n",
       "      <th>3</th>\n",
       "      <td>1005</td>\n",
       "      <td>AMBERIEUX EN DOMBES</td>\n",
       "      <td>1330</td>\n",
       "      <td>AMBERIEUX EN DOMBES</td>\n",
       "      <td>NaN</td>\n",
       "      <td>45.9961799872</td>\n",
       "      <td>4.91227250796</td>\n",
       "      <td>5</td>\n",
       "      <td>NaN</td>\n",
       "      <td>Ambérieux-en-Dombes</td>\n",
       "      <td>Ambérieux-en-Dombes</td>\n",
       "      <td>1</td>\n",
       "      <td>Ain</td>\n",
       "      <td>84</td>\n",
       "      <td>Auvergne-Rhône-Alpes</td>\n",
       "    </tr>\n",
       "    <tr>\n",
       "      <th>4</th>\n",
       "      <td>1006</td>\n",
       "      <td>AMBLEON</td>\n",
       "      <td>1300</td>\n",
       "      <td>AMBLEON</td>\n",
       "      <td>NaN</td>\n",
       "      <td>45.7494989044</td>\n",
       "      <td>5.59432017366</td>\n",
       "      <td>6</td>\n",
       "      <td>NaN</td>\n",
       "      <td>Ambléon</td>\n",
       "      <td>Ambléon</td>\n",
       "      <td>1</td>\n",
       "      <td>Ain</td>\n",
       "      <td>84</td>\n",
       "      <td>Auvergne-Rhône-Alpes</td>\n",
       "    </tr>\n",
       "    <tr>\n",
       "      <th>...</th>\n",
       "      <td>...</td>\n",
       "      <td>...</td>\n",
       "      <td>...</td>\n",
       "      <td>...</td>\n",
       "      <td>...</td>\n",
       "      <td>...</td>\n",
       "      <td>...</td>\n",
       "      <td>...</td>\n",
       "      <td>...</td>\n",
       "      <td>...</td>\n",
       "      <td>...</td>\n",
       "      <td>...</td>\n",
       "      <td>...</td>\n",
       "      <td>...</td>\n",
       "      <td>...</td>\n",
       "    </tr>\n",
       "    <tr>\n",
       "      <th>39196</th>\n",
       "      <td>98831</td>\n",
       "      <td>VOH</td>\n",
       "      <td>98883</td>\n",
       "      <td>OUACO</td>\n",
       "      <td>VOH</td>\n",
       "      <td>NaN</td>\n",
       "      <td>NaN</td>\n",
       "      <td>831</td>\n",
       "      <td>NaN</td>\n",
       "      <td>Voh</td>\n",
       "      <td>Voh</td>\n",
       "      <td>98</td>\n",
       "      <td>NaN</td>\n",
       "      <td>NaN</td>\n",
       "      <td>NaN</td>\n",
       "    </tr>\n",
       "    <tr>\n",
       "      <th>39197</th>\n",
       "      <td>98832</td>\n",
       "      <td>YATE</td>\n",
       "      <td>98834</td>\n",
       "      <td>YATE</td>\n",
       "      <td>NaN</td>\n",
       "      <td>NaN</td>\n",
       "      <td>NaN</td>\n",
       "      <td>832</td>\n",
       "      <td>NaN</td>\n",
       "      <td>Yate</td>\n",
       "      <td>Yate</td>\n",
       "      <td>98</td>\n",
       "      <td>NaN</td>\n",
       "      <td>NaN</td>\n",
       "      <td>NaN</td>\n",
       "    </tr>\n",
       "    <tr>\n",
       "      <th>39198</th>\n",
       "      <td>98833</td>\n",
       "      <td>KOUAOUA</td>\n",
       "      <td>98818</td>\n",
       "      <td>KOUAOUA</td>\n",
       "      <td>NaN</td>\n",
       "      <td>NaN</td>\n",
       "      <td>NaN</td>\n",
       "      <td>833</td>\n",
       "      <td>NaN</td>\n",
       "      <td>Kouaoua</td>\n",
       "      <td>Kouaoua</td>\n",
       "      <td>98</td>\n",
       "      <td>NaN</td>\n",
       "      <td>NaN</td>\n",
       "      <td>NaN</td>\n",
       "    </tr>\n",
       "    <tr>\n",
       "      <th>39199</th>\n",
       "      <td>98901</td>\n",
       "      <td>ILE DE CLIPPERTON</td>\n",
       "      <td>98799</td>\n",
       "      <td>ILE DE CLIPPERTON</td>\n",
       "      <td>NaN</td>\n",
       "      <td>NaN</td>\n",
       "      <td>NaN</td>\n",
       "      <td>901</td>\n",
       "      <td>NaN</td>\n",
       "      <td>Ile de clipperton</td>\n",
       "      <td>Ile de clipperton</td>\n",
       "      <td>98</td>\n",
       "      <td>NaN</td>\n",
       "      <td>NaN</td>\n",
       "      <td>NaN</td>\n",
       "    </tr>\n",
       "    <tr>\n",
       "      <th>39200</th>\n",
       "      <td>99138</td>\n",
       "      <td>MONACO</td>\n",
       "      <td>98000</td>\n",
       "      <td>MONACO</td>\n",
       "      <td>NaN</td>\n",
       "      <td>NaN</td>\n",
       "      <td>NaN</td>\n",
       "      <td>138</td>\n",
       "      <td>NaN</td>\n",
       "      <td>Monaco</td>\n",
       "      <td>Monaco</td>\n",
       "      <td>99</td>\n",
       "      <td>NaN</td>\n",
       "      <td>NaN</td>\n",
       "      <td>NaN</td>\n",
       "    </tr>\n",
       "  </tbody>\n",
       "</table>\n",
       "<p>39201 rows × 15 columns</p>\n",
       "</div>"
      ],
      "text/plain": [
       "      code_commune_INSEE       nom_commune_postal code_postal  \\\n",
       "0                   1001  L ABERGEMENT CLEMENCIAT        1400   \n",
       "1                   1002    L ABERGEMENT DE VAREY        1640   \n",
       "2                   1004        AMBERIEU EN BUGEY        1500   \n",
       "3                   1005      AMBERIEUX EN DOMBES        1330   \n",
       "4                   1006                  AMBLEON        1300   \n",
       "...                  ...                      ...         ...   \n",
       "39196              98831                      VOH       98883   \n",
       "39197              98832                     YATE       98834   \n",
       "39198              98833                  KOUAOUA       98818   \n",
       "39199              98901        ILE DE CLIPPERTON       98799   \n",
       "39200              99138                   MONACO       98000   \n",
       "\n",
       "          libelle_acheminement ligne_5       latitude      longitude  \\\n",
       "0      L ABERGEMENT CLEMENCIAT     NaN  46.1534255214  4.92611354223   \n",
       "1        L ABERGEMENT DE VAREY     NaN  46.0091878776  5.42801696363   \n",
       "2            AMBERIEU EN BUGEY     NaN  45.9608475114   5.3729257777   \n",
       "3          AMBERIEUX EN DOMBES     NaN  45.9961799872  4.91227250796   \n",
       "4                      AMBLEON     NaN  45.7494989044  5.59432017366   \n",
       "...                        ...     ...            ...            ...   \n",
       "39196                    OUACO     VOH            NaN            NaN   \n",
       "39197                     YATE     NaN            NaN            NaN   \n",
       "39198                  KOUAOUA     NaN            NaN            NaN   \n",
       "39199        ILE DE CLIPPERTON     NaN            NaN            NaN   \n",
       "39200                   MONACO     NaN            NaN            NaN   \n",
       "\n",
       "      code_commune article            nom_commune      nom_commune_complet  \\\n",
       "0                1      L'  Abergement-Clémenciat  L'Abergement-Clémenciat   \n",
       "1                2      L'    Abergement-de-Varey    L'Abergement-de-Varey   \n",
       "2                4     NaN      Ambérieu-en-Bugey        Ambérieu-en-Bugey   \n",
       "3                5     NaN    Ambérieux-en-Dombes      Ambérieux-en-Dombes   \n",
       "4                6     NaN                Ambléon                  Ambléon   \n",
       "...            ...     ...                    ...                      ...   \n",
       "39196          831     NaN                    Voh                      Voh   \n",
       "39197          832     NaN                   Yate                     Yate   \n",
       "39198          833     NaN                Kouaoua                  Kouaoua   \n",
       "39199          901     NaN      Ile de clipperton        Ile de clipperton   \n",
       "39200          138     NaN                 Monaco                   Monaco   \n",
       "\n",
       "      code_departement nom_departement code_region            nom_region  \n",
       "0                    1             Ain          84  Auvergne-Rhône-Alpes  \n",
       "1                    1             Ain          84  Auvergne-Rhône-Alpes  \n",
       "2                    1             Ain          84  Auvergne-Rhône-Alpes  \n",
       "3                    1             Ain          84  Auvergne-Rhône-Alpes  \n",
       "4                    1             Ain          84  Auvergne-Rhône-Alpes  \n",
       "...                ...             ...         ...                   ...  \n",
       "39196               98             NaN         NaN                   NaN  \n",
       "39197               98             NaN         NaN                   NaN  \n",
       "39198               98             NaN         NaN                   NaN  \n",
       "39199               98             NaN         NaN                   NaN  \n",
       "39200               99             NaN         NaN                   NaN  \n",
       "\n",
       "[39201 rows x 15 columns]"
      ]
     },
     "execution_count": 23,
     "metadata": {},
     "output_type": "execute_result"
    }
   ],
   "source": [
    "dfCommunes = read_csv('communes-departement-region')\n",
    "dfCommunes"
   ]
  }
 ],
 "metadata": {
  "colab": {
   "collapsed_sections": [],
   "name": "Untitled1.ipynb",
   "provenance": []
  },
  "kernelspec": {
   "display_name": "Python 3",
   "language": "python",
   "name": "python3"
  },
  "language_info": {
   "codemirror_mode": {
    "name": "ipython",
    "version": 3
   },
   "file_extension": ".py",
   "mimetype": "text/x-python",
   "name": "python",
   "nbconvert_exporter": "python",
   "pygments_lexer": "ipython3",
   "version": "3.8.3"
  }
 },
 "nbformat": 4,
 "nbformat_minor": 1
}
